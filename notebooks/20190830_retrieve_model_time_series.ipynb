{
 "cells": [
  {
   "cell_type": "markdown",
   "metadata": {},
   "source": [
    "# 从模式数据中读取单点的时间序列"
   ]
  },
  {
   "cell_type": "code",
   "execution_count": 1,
   "metadata": {},
   "outputs": [],
   "source": [
    "# set up things\n",
    "%matplotlib inline\n",
    "%load_ext autoreload\n",
    "%autoreload 2\n",
    "\n",
    "# supress warnings\n",
    "import warnings\n",
    "warnings.filterwarnings('ignore')"
   ]
  },
  {
   "cell_type": "code",
   "execution_count": 2,
   "metadata": {},
   "outputs": [],
   "source": [
    "from datetime import datetime\n",
    "import xarray as xr\n",
    "import numpy as np\n",
    "import pandas as pd\n",
    "from nmc_met_io.retrieve_micaps_server import get_model_grid, get_model_points, get_model_3D_grid, get_model_3D_grids\n",
    "from nmc_met_io.utility import get_filenames"
   ]
  },
  {
   "cell_type": "markdown",
   "metadata": {},
   "source": [
    "## 读取统一起报时间的多个预报时刻格点场"
   ]
  },
  {
   "cell_type": "code",
   "execution_count": 3,
   "metadata": {},
   "outputs": [],
   "source": [
    "dataDir = \"NWFD_SCMOC/TMP/2M_ABOVE_GROUND\""
   ]
  },
  {
   "cell_type": "code",
   "execution_count": 4,
   "metadata": {},
   "outputs": [],
   "source": [
    "fhours = np.arange(3, 75, 3)\n",
    "filenames = [\"19083008.\"+str(fhour).zfill(3) for fhour in fhours]"
   ]
  },
  {
   "cell_type": "code",
   "execution_count": 5,
   "metadata": {},
   "outputs": [],
   "source": [
    "points = {'lon':[116.3833, 110.0], 'lat':[39.9, 32]}"
   ]
  },
  {
   "cell_type": "code",
   "execution_count": 6,
   "metadata": {},
   "outputs": [],
   "source": [
    "data = get_model_points(dataDir, filenames, points)"
   ]
  },
  {
   "cell_type": "code",
   "execution_count": 7,
   "metadata": {},
   "outputs": [
    {
     "data": {
      "text/plain": [
       "<xarray.Dataset>\n",
       "Dimensions:                  (level: 1, points: 2, time: 24)\n",
       "Coordinates:\n",
       "  * level                    (level) float64 2.0\n",
       "    forecast_reference_time  datetime64[ns] 2019-08-30T08:00:00\n",
       "  * time                     (time) datetime64[ns] 2019-08-30T11:00:00 ... 2019-09-02T08:00:00\n",
       "    forecast_period          (time) float64 3.0 6.0 9.0 12.0 ... 66.0 69.0 72.0\n",
       "    lon                      (points) float64 116.4 110.0\n",
       "    lat                      (points) float64 39.9 32.0\n",
       "Dimensions without coordinates: points\n",
       "Data variables:\n",
       "    data                     (time, level, points) float64 30.34 25.6 ... 16.65\n",
       "Attributes:\n",
       "    Conventions:  CF-1.6\n",
       "    Origin:       MICAPS Cassandra Server"
      ]
     },
     "execution_count": 7,
     "metadata": {},
     "output_type": "execute_result"
    }
   ],
   "source": [
    "data"
   ]
  },
  {
   "cell_type": "code",
   "execution_count": 9,
   "metadata": {},
   "outputs": [
    {
     "data": {
      "text/plain": [
       "[<matplotlib.lines.Line2D at 0x7f6ebff26cf8>]"
      ]
     },
     "execution_count": 9,
     "metadata": {},
     "output_type": "execute_result"
    },
    {
     "data": {
      "image/png": "[encoded data removed]",
      "text/plain": [
       "<Figure size 432x288 with 1 Axes>"
      ]
     },
     "metadata": {
      "needs_background": "light"
     },
     "output_type": "display_data"
    }
   ],
   "source": [
    "data['data'][:,0,0].plot()"
   ]
  },
  {
   "cell_type": "code",
   "execution_count": 3,
   "metadata": {},
   "outputs": [],
   "source": [
    "data_ens = get_model_grid('ECMWF_ENSEMBLE/RAW/TMP_2M', '19083008.024')"
   ]
  },
  {
   "cell_type": "code",
   "execution_count": 4,
   "metadata": {},
   "outputs": [
    {
     "data": {
      "text/plain": [
       "<xarray.Dataset>\n",
       "Dimensions:                  (lat: 161, lon: 281, number: 51, time: 1)\n",
       "Coordinates:\n",
       "  * time                     (time) datetime64[ns] 2019-08-31T08:00:00\n",
       "  * number                   (number) int64 0 1 2 3 4 5 6 ... 45 46 47 48 49 50\n",
       "  * lat                      (lat) float64 70.0 69.5 69.0 ... -9.0 -9.5 -10.0\n",
       "  * lon                      (lon) float64 40.0 40.5 41.0 ... 179.0 179.5 180.0\n",
       "    forecast_reference_time  datetime64[ns] 2019-08-30T08:00:00\n",
       "    forecast_period          (time) float64 24.0\n",
       "Data variables:\n",
       "    data                     (time, number, lat, lon) float64 10.33 ... 26.84\n",
       "Attributes:\n",
       "    Conventions:  CF-1.6\n",
       "    Origin:       MICAPS Cassandra Server"
      ]
     },
     "execution_count": 4,
     "metadata": {},
     "output_type": "execute_result"
    }
   ],
   "source": [
    "data_ens"
   ]
  },
  {
   "cell_type": "code",
   "execution_count": 3,
   "metadata": {},
   "outputs": [],
   "source": [
    "filenames = get_filenames('19090108', fhours=\"0/241/6\")\n",
    "points = {'lon':[116.3833,], 'lat':[39.9,]}\n",
    "eps_point = get_model_points(\"ECMWF_ENSEMBLE/RAW/TMP_2M\", filenames, points)"
   ]
  },
  {
   "cell_type": "code",
   "execution_count": 18,
   "metadata": {},
   "outputs": [
    {
     "data": {
      "text/plain": [
       "(41, 51)"
      ]
     },
     "execution_count": 18,
     "metadata": {},
     "output_type": "execute_result"
    }
   ],
   "source": [
    "np.squeeze(eps_point['data'].values).shape"
   ]
  },
  {
   "cell_type": "code",
   "execution_count": 8,
   "metadata": {},
   "outputs": [
    {
     "data": {
      "text/plain": [
       "[datetime.datetime(2019, 9, 1, 8, 0),\n",
       " datetime.datetime(2019, 9, 1, 14, 0),\n",
       " datetime.datetime(2019, 9, 1, 20, 0),\n",
       " datetime.datetime(2019, 9, 2, 2, 0),\n",
       " datetime.datetime(2019, 9, 2, 8, 0),\n",
       " datetime.datetime(2019, 9, 2, 14, 0),\n",
       " datetime.datetime(2019, 9, 2, 20, 0),\n",
       " datetime.datetime(2019, 9, 3, 2, 0),\n",
       " datetime.datetime(2019, 9, 3, 8, 0),\n",
       " datetime.datetime(2019, 9, 3, 14, 0),\n",
       " datetime.datetime(2019, 9, 3, 20, 0),\n",
       " datetime.datetime(2019, 9, 4, 2, 0),\n",
       " datetime.datetime(2019, 9, 4, 8, 0),\n",
       " datetime.datetime(2019, 9, 4, 14, 0),\n",
       " datetime.datetime(2019, 9, 4, 20, 0),\n",
       " datetime.datetime(2019, 9, 5, 2, 0),\n",
       " datetime.datetime(2019, 9, 5, 8, 0),\n",
       " datetime.datetime(2019, 9, 5, 14, 0),\n",
       " datetime.datetime(2019, 9, 5, 20, 0),\n",
       " datetime.datetime(2019, 9, 6, 2, 0),\n",
       " datetime.datetime(2019, 9, 6, 8, 0),\n",
       " datetime.datetime(2019, 9, 6, 14, 0),\n",
       " datetime.datetime(2019, 9, 6, 20, 0),\n",
       " datetime.datetime(2019, 9, 7, 2, 0),\n",
       " datetime.datetime(2019, 9, 7, 8, 0),\n",
       " datetime.datetime(2019, 9, 7, 14, 0),\n",
       " datetime.datetime(2019, 9, 7, 20, 0),\n",
       " datetime.datetime(2019, 9, 8, 2, 0),\n",
       " datetime.datetime(2019, 9, 8, 8, 0),\n",
       " datetime.datetime(2019, 9, 8, 14, 0),\n",
       " datetime.datetime(2019, 9, 8, 20, 0),\n",
       " datetime.datetime(2019, 9, 9, 2, 0),\n",
       " datetime.datetime(2019, 9, 9, 8, 0),\n",
       " datetime.datetime(2019, 9, 9, 14, 0),\n",
       " datetime.datetime(2019, 9, 9, 20, 0),\n",
       " datetime.datetime(2019, 9, 10, 2, 0),\n",
       " datetime.datetime(2019, 9, 10, 8, 0),\n",
       " datetime.datetime(2019, 9, 10, 14, 0),\n",
       " datetime.datetime(2019, 9, 10, 20, 0),\n",
       " datetime.datetime(2019, 9, 11, 2, 0),\n",
       " datetime.datetime(2019, 9, 11, 8, 0)]"
      ]
     },
     "execution_count": 8,
     "metadata": {},
     "output_type": "execute_result"
    }
   ],
   "source": [
    "eps_point.coords['time'].values.astype('M8[ms]').astype('O').tolist()"
   ]
  },
  {
   "cell_type": "code",
   "execution_count": 8,
   "metadata": {},
   "outputs": [
    {
     "ename": "TypeError",
     "evalue": "ufunc true_divide cannot use operands with types dtype('<M8[ns]') and dtype('float64')",
     "output_type": "error",
     "traceback": [
      "\u001b[0;31m---------------------------------------------------------------------------\u001b[0m",
      "\u001b[0;31mTypeError\u001b[0m                                 Traceback (most recent call last)",
      "\u001b[0;32m<ipython-input-8-7470213b5592>\u001b[0m in \u001b[0;36m<module>\u001b[0;34m\u001b[0m\n\u001b[0;32m----> 1\u001b[0;31m \u001b[0mdatetime\u001b[0m\u001b[0;34m.\u001b[0m\u001b[0mutcfromtimestamp\u001b[0m\u001b[0;34m(\u001b[0m\u001b[0meps_point\u001b[0m\u001b[0;34m.\u001b[0m\u001b[0mcoords\u001b[0m\u001b[0;34m[\u001b[0m\u001b[0;34m'time'\u001b[0m\u001b[0;34m]\u001b[0m\u001b[0;34m.\u001b[0m\u001b[0mvalues\u001b[0m\u001b[0;34m/\u001b[0m\u001b[0;36m1e9\u001b[0m\u001b[0;34m)\u001b[0m\u001b[0;34m\u001b[0m\u001b[0;34m\u001b[0m\u001b[0m\n\u001b[0m",
      "\u001b[0;31mTypeError\u001b[0m: ufunc true_divide cannot use operands with types dtype('<M8[ns]') and dtype('float64')"
     ]
    }
   ],
   "source": [
    "datetime.utcfromtimestamp(eps_point.coords['time'].values/1e9)"
   ]
  },
  {
   "cell_type": "code",
   "execution_count": 42,
   "metadata": {},
   "outputs": [
    {
     "data": {
      "text/plain": [
       "numpy.datetime64('2019-09-01T09:13:41.291957')"
      ]
     },
     "execution_count": 42,
     "metadata": {},
     "output_type": "execute_result"
    }
   ],
   "source": [
    "np.datetime64(datetime.utcnow())"
   ]
  },
  {
   "cell_type": "code",
   "execution_count": 35,
   "metadata": {},
   "outputs": [
    {
     "data": {
      "text/plain": [
       "'1.16.2'"
      ]
     },
     "execution_count": 35,
     "metadata": {},
     "output_type": "execute_result"
    }
   ],
   "source": [
    "np.__version__"
   ]
  },
  {
   "cell_type": "markdown",
   "metadata": {},
   "source": [
    "## 读取三维空间网格预报"
   ]
  },
  {
   "cell_type": "code",
   "execution_count": 10,
   "metadata": {},
   "outputs": [],
   "source": [
    "directory = \"ECMWF_HR/TMP\"\n",
    "levels = [1000, 950, 925, 900, 850, 800, 700, 600, 500, 400, 300, 250, 200, 100]\n",
    "filename = \"19083008.024\""
   ]
  },
  {
   "cell_type": "code",
   "execution_count": 11,
   "metadata": {},
   "outputs": [
    {
     "name": "stdout",
     "output_type": "stream",
     "text": [
      "CPU times: user 92.3 ms, sys: 7.25 ms, total: 99.5 ms\n",
      "Wall time: 1.54 s\n"
     ]
    }
   ],
   "source": [
    "%%time\n",
    "data = get_model_3D_grid(directory, filename, levels)"
   ]
  },
  {
   "cell_type": "code",
   "execution_count": 13,
   "metadata": {},
   "outputs": [
    {
     "data": {
      "text/plain": [
       "<xarray.Dataset>\n",
       "Dimensions:                  (lat: 281, level: 14, lon: 361, time: 1)\n",
       "Coordinates:\n",
       "  * time                     (time) datetime64[ns] 2019-08-31T08:00:00\n",
       "  * lat                      (lat) float64 60.0 59.75 59.5 ... -9.5 -9.75 -10.0\n",
       "  * lon                      (lon) float64 60.0 60.25 60.5 ... 149.5 149.8 150.0\n",
       "    forecast_reference_time  datetime64[ns] 2019-08-30T08:00:00\n",
       "    forecast_period          (time) float64 24.0\n",
       "  * level                    (level) float64 1e+03 950.0 925.0 ... 200.0 100.0\n",
       "Data variables:\n",
       "    data                     (time, level, lat, lon) float32 6.43375 ... -78.49701\n",
       "Attributes:\n",
       "    Conventions:  CF-1.6\n",
       "    Origin:       MICAPS Cassandra Server"
      ]
     },
     "execution_count": 13,
     "metadata": {},
     "output_type": "execute_result"
    }
   ],
   "source": [
    "data"
   ]
  },
  {
   "cell_type": "code",
   "execution_count": 6,
   "metadata": {},
   "outputs": [],
   "source": [
    "fhours = np.arange(0, 75, 3)\n",
    "filenames = [\"19083008.\"+str(fhour).zfill(3) for fhour in fhours]"
   ]
  },
  {
   "cell_type": "code",
   "execution_count": 15,
   "metadata": {},
   "outputs": [
    {
     "name": "stdout",
     "output_type": "stream",
     "text": [
      "CPU times: user 1.99 s, sys: 269 ms, total: 2.26 s\n",
      "Wall time: 13.9 s\n"
     ]
    }
   ],
   "source": [
    "%%time\n",
    "data =  get_model_3D_grids(directory, filenames, levels)"
   ]
  },
  {
   "cell_type": "code",
   "execution_count": 14,
   "metadata": {},
   "outputs": [
    {
     "data": {
      "text/plain": [
       "<xarray.Dataset>\n",
       "Dimensions:                  (lat: 281, level: 14, lon: 361, time: 1)\n",
       "Coordinates:\n",
       "  * time                     (time) datetime64[ns] 2019-08-31T08:00:00\n",
       "  * lat                      (lat) float64 60.0 59.75 59.5 ... -9.5 -9.75 -10.0\n",
       "  * lon                      (lon) float64 60.0 60.25 60.5 ... 149.5 149.8 150.0\n",
       "    forecast_reference_time  datetime64[ns] 2019-08-30T08:00:00\n",
       "    forecast_period          (time) float64 24.0\n",
       "  * level                    (level) float64 1e+03 950.0 925.0 ... 200.0 100.0\n",
       "Data variables:\n",
       "    data                     (time, level, lat, lon) float32 6.43375 ... -78.49701\n",
       "Attributes:\n",
       "    Conventions:  CF-1.6\n",
       "    Origin:       MICAPS Cassandra Server"
      ]
     },
     "execution_count": 14,
     "metadata": {},
     "output_type": "execute_result"
    }
   ],
   "source": [
    "data"
   ]
  },
  {
   "cell_type": "code",
   "execution_count": 9,
   "metadata": {},
   "outputs": [
    {
     "data": {
      "text/plain": [
       "array([ 6, 12, 18, 24])"
      ]
     },
     "execution_count": 9,
     "metadata": {},
     "output_type": "execute_result"
    }
   ],
   "source": [
    "np.arange(6, 25, 6)"
   ]
  }
 ],
 "metadata": {
  "kernelspec": {
   "display_name": "Python 3",
   "language": "python",
   "name": "python3"
  },
  "language_info": {
   "codemirror_mode": {
    "name": "ipython",
    "version": 3
   },
   "file_extension": ".py",
   "mimetype": "text/x-python",
   "name": "python",
   "nbconvert_exporter": "python",
   "pygments_lexer": "ipython3",
   "version": "3.7.3"
  }
 },
 "nbformat": 4,
 "nbformat_minor": 4
}
